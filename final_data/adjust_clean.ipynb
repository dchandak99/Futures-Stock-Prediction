{
 "cells": [
  {
   "cell_type": "code",
   "execution_count": 6,
   "metadata": {},
   "outputs": [],
   "source": [
    "import pandas as pd\n",
    "import gzip"
   ]
  },
  {
   "cell_type": "code",
   "execution_count": 59,
   "metadata": {},
   "outputs": [],
   "source": [
    "df=pd.read_csv('tick_data/Copper/1997.csv.gz',compression='gzip')"
   ]
  },
  {
   "cell_type": "code",
   "execution_count": 61,
   "metadata": {},
   "outputs": [],
   "source": [
    "def clean(df):\n",
    "    df=df.dropna(axis=0, subset=['No. Trades'])\n",
    "    for col in df.columns:\n",
    "        if df[col].isnull().sum()==len(df[col]):\n",
    "                 df=df.drop(col,axis=1).reset_index(drop=True)\n",
    "    df['date']=df.apply(lambda row: row['Date-Time'].split('T')[0],axis=1)\n",
    "    df['time']=df.apply(lambda row: row['Date-Time'].split('T')[1].split('.')[0],axis=1)\n",
    "    df=df.drop('Date-Time',axis=1).reset_index(drop=True)\n",
    "    df=df.sort_values(['date','time']).reset_index(drop=True)\n",
    "    return df"
   ]
  },
  {
   "cell_type": "code",
   "execution_count": 17,
   "metadata": {},
   "outputs": [
    {
     "data": {
      "text/plain": [
       "2720"
      ]
     },
     "execution_count": 17,
     "metadata": {},
     "output_type": "execute_result"
    }
   ],
   "source": [
    "df[df.columns[12]].isnull().sum()\n"
   ]
  },
  {
   "cell_type": "code",
   "execution_count": 47,
   "metadata": {},
   "outputs": [
    {
     "data": {
      "text/html": [
       "<div>\n",
       "<style scoped>\n",
       "    .dataframe tbody tr th:only-of-type {\n",
       "        vertical-align: middle;\n",
       "    }\n",
       "\n",
       "    .dataframe tbody tr th {\n",
       "        vertical-align: top;\n",
       "    }\n",
       "\n",
       "    .dataframe thead th {\n",
       "        text-align: right;\n",
       "    }\n",
       "</style>\n",
       "<table border=\"1\" class=\"dataframe\">\n",
       "  <thead>\n",
       "    <tr style=\"text-align: right;\">\n",
       "      <th></th>\n",
       "      <th>#RIC</th>\n",
       "      <th>Alias Underlying RIC</th>\n",
       "      <th>Domain</th>\n",
       "      <th>Date-Time</th>\n",
       "      <th>GMT Offset</th>\n",
       "      <th>Type</th>\n",
       "      <th>Open</th>\n",
       "      <th>High</th>\n",
       "      <th>Low</th>\n",
       "      <th>Last</th>\n",
       "      <th>...</th>\n",
       "      <th>Open Bid</th>\n",
       "      <th>High Bid</th>\n",
       "      <th>Low Bid</th>\n",
       "      <th>Close Bid</th>\n",
       "      <th>No. Bids</th>\n",
       "      <th>Open Ask</th>\n",
       "      <th>High Ask</th>\n",
       "      <th>Low Ask</th>\n",
       "      <th>Close Ask</th>\n",
       "      <th>No. Asks</th>\n",
       "    </tr>\n",
       "  </thead>\n",
       "  <tbody>\n",
       "    <tr>\n",
       "      <td>2243</td>\n",
       "      <td>HGc1</td>\n",
       "      <td>HGF7</td>\n",
       "      <td>Market Price</td>\n",
       "      <td>1997-01-02T13:23:00.000000000Z</td>\n",
       "      <td>-5</td>\n",
       "      <td>Intraday 1Min</td>\n",
       "      <td>102.5</td>\n",
       "      <td>102.50</td>\n",
       "      <td>102.5</td>\n",
       "      <td>102.50</td>\n",
       "      <td>...</td>\n",
       "      <td>NaN</td>\n",
       "      <td>NaN</td>\n",
       "      <td>NaN</td>\n",
       "      <td>NaN</td>\n",
       "      <td>NaN</td>\n",
       "      <td>NaN</td>\n",
       "      <td>NaN</td>\n",
       "      <td>NaN</td>\n",
       "      <td>NaN</td>\n",
       "      <td>NaN</td>\n",
       "    </tr>\n",
       "    <tr>\n",
       "      <td>2244</td>\n",
       "      <td>HGc1</td>\n",
       "      <td>HGF7</td>\n",
       "      <td>Market Price</td>\n",
       "      <td>1997-01-02T13:24:00.000000000Z</td>\n",
       "      <td>-5</td>\n",
       "      <td>Intraday 1Min</td>\n",
       "      <td>102.6</td>\n",
       "      <td>102.60</td>\n",
       "      <td>102.6</td>\n",
       "      <td>102.60</td>\n",
       "      <td>...</td>\n",
       "      <td>NaN</td>\n",
       "      <td>NaN</td>\n",
       "      <td>NaN</td>\n",
       "      <td>NaN</td>\n",
       "      <td>NaN</td>\n",
       "      <td>NaN</td>\n",
       "      <td>NaN</td>\n",
       "      <td>NaN</td>\n",
       "      <td>NaN</td>\n",
       "      <td>NaN</td>\n",
       "    </tr>\n",
       "    <tr>\n",
       "      <td>2252</td>\n",
       "      <td>HGc1</td>\n",
       "      <td>HGF7</td>\n",
       "      <td>Market Price</td>\n",
       "      <td>1997-01-02T13:32:00.000000000Z</td>\n",
       "      <td>-5</td>\n",
       "      <td>Intraday 1Min</td>\n",
       "      <td>102.4</td>\n",
       "      <td>102.40</td>\n",
       "      <td>102.4</td>\n",
       "      <td>102.40</td>\n",
       "      <td>...</td>\n",
       "      <td>NaN</td>\n",
       "      <td>NaN</td>\n",
       "      <td>NaN</td>\n",
       "      <td>NaN</td>\n",
       "      <td>NaN</td>\n",
       "      <td>NaN</td>\n",
       "      <td>NaN</td>\n",
       "      <td>NaN</td>\n",
       "      <td>NaN</td>\n",
       "      <td>NaN</td>\n",
       "    </tr>\n",
       "    <tr>\n",
       "      <td>2253</td>\n",
       "      <td>HGc1</td>\n",
       "      <td>HGF7</td>\n",
       "      <td>Market Price</td>\n",
       "      <td>1997-01-02T13:33:00.000000000Z</td>\n",
       "      <td>-5</td>\n",
       "      <td>Intraday 1Min</td>\n",
       "      <td>102.4</td>\n",
       "      <td>102.40</td>\n",
       "      <td>102.4</td>\n",
       "      <td>102.40</td>\n",
       "      <td>...</td>\n",
       "      <td>NaN</td>\n",
       "      <td>NaN</td>\n",
       "      <td>NaN</td>\n",
       "      <td>NaN</td>\n",
       "      <td>NaN</td>\n",
       "      <td>NaN</td>\n",
       "      <td>NaN</td>\n",
       "      <td>NaN</td>\n",
       "      <td>NaN</td>\n",
       "      <td>NaN</td>\n",
       "    </tr>\n",
       "    <tr>\n",
       "      <td>2254</td>\n",
       "      <td>HGc1</td>\n",
       "      <td>HGF7</td>\n",
       "      <td>Market Price</td>\n",
       "      <td>1997-01-02T13:34:00.000000000Z</td>\n",
       "      <td>-5</td>\n",
       "      <td>Intraday 1Min</td>\n",
       "      <td>102.3</td>\n",
       "      <td>102.30</td>\n",
       "      <td>102.3</td>\n",
       "      <td>102.30</td>\n",
       "      <td>...</td>\n",
       "      <td>NaN</td>\n",
       "      <td>NaN</td>\n",
       "      <td>NaN</td>\n",
       "      <td>NaN</td>\n",
       "      <td>NaN</td>\n",
       "      <td>NaN</td>\n",
       "      <td>NaN</td>\n",
       "      <td>NaN</td>\n",
       "      <td>NaN</td>\n",
       "      <td>NaN</td>\n",
       "    </tr>\n",
       "    <tr>\n",
       "      <td>...</td>\n",
       "      <td>...</td>\n",
       "      <td>...</td>\n",
       "      <td>...</td>\n",
       "      <td>...</td>\n",
       "      <td>...</td>\n",
       "      <td>...</td>\n",
       "      <td>...</td>\n",
       "      <td>...</td>\n",
       "      <td>...</td>\n",
       "      <td>...</td>\n",
       "      <td>...</td>\n",
       "      <td>...</td>\n",
       "      <td>...</td>\n",
       "      <td>...</td>\n",
       "      <td>...</td>\n",
       "      <td>...</td>\n",
       "      <td>...</td>\n",
       "      <td>...</td>\n",
       "      <td>...</td>\n",
       "      <td>...</td>\n",
       "      <td>...</td>\n",
       "    </tr>\n",
       "    <tr>\n",
       "      <td>525227</td>\n",
       "      <td>HGc1</td>\n",
       "      <td>HGF8</td>\n",
       "      <td>Market Price</td>\n",
       "      <td>1997-12-31T17:47:00.000000000Z</td>\n",
       "      <td>-5</td>\n",
       "      <td>Intraday 1Min</td>\n",
       "      <td>76.9</td>\n",
       "      <td>77.00</td>\n",
       "      <td>76.9</td>\n",
       "      <td>77.00</td>\n",
       "      <td>...</td>\n",
       "      <td>77.1</td>\n",
       "      <td>77.1</td>\n",
       "      <td>77.05</td>\n",
       "      <td>77.05</td>\n",
       "      <td>0.0</td>\n",
       "      <td>77.7</td>\n",
       "      <td>78.3</td>\n",
       "      <td>77.55</td>\n",
       "      <td>78.3</td>\n",
       "      <td>0.0</td>\n",
       "    </tr>\n",
       "    <tr>\n",
       "      <td>525228</td>\n",
       "      <td>HGc1</td>\n",
       "      <td>HGF8</td>\n",
       "      <td>Market Price</td>\n",
       "      <td>1997-12-31T17:48:00.000000000Z</td>\n",
       "      <td>-5</td>\n",
       "      <td>Intraday 1Min</td>\n",
       "      <td>76.9</td>\n",
       "      <td>76.90</td>\n",
       "      <td>76.9</td>\n",
       "      <td>76.90</td>\n",
       "      <td>...</td>\n",
       "      <td>77.1</td>\n",
       "      <td>77.1</td>\n",
       "      <td>77.05</td>\n",
       "      <td>77.05</td>\n",
       "      <td>0.0</td>\n",
       "      <td>77.7</td>\n",
       "      <td>78.3</td>\n",
       "      <td>77.55</td>\n",
       "      <td>78.3</td>\n",
       "      <td>0.0</td>\n",
       "    </tr>\n",
       "    <tr>\n",
       "      <td>525233</td>\n",
       "      <td>HGc1</td>\n",
       "      <td>HGF8</td>\n",
       "      <td>Market Price</td>\n",
       "      <td>1997-12-31T17:53:00.000000000Z</td>\n",
       "      <td>-5</td>\n",
       "      <td>Intraday 1Min</td>\n",
       "      <td>76.8</td>\n",
       "      <td>76.80</td>\n",
       "      <td>76.8</td>\n",
       "      <td>76.80</td>\n",
       "      <td>...</td>\n",
       "      <td>77.1</td>\n",
       "      <td>77.1</td>\n",
       "      <td>77.05</td>\n",
       "      <td>77.05</td>\n",
       "      <td>0.0</td>\n",
       "      <td>77.7</td>\n",
       "      <td>78.3</td>\n",
       "      <td>77.55</td>\n",
       "      <td>78.3</td>\n",
       "      <td>0.0</td>\n",
       "    </tr>\n",
       "    <tr>\n",
       "      <td>525239</td>\n",
       "      <td>HGc1</td>\n",
       "      <td>HGF8</td>\n",
       "      <td>Market Price</td>\n",
       "      <td>1997-12-31T17:59:00.000000000Z</td>\n",
       "      <td>-5</td>\n",
       "      <td>Intraday 1Min</td>\n",
       "      <td>76.9</td>\n",
       "      <td>76.92</td>\n",
       "      <td>76.8</td>\n",
       "      <td>76.92</td>\n",
       "      <td>...</td>\n",
       "      <td>77.1</td>\n",
       "      <td>77.1</td>\n",
       "      <td>77.05</td>\n",
       "      <td>77.05</td>\n",
       "      <td>0.0</td>\n",
       "      <td>77.7</td>\n",
       "      <td>78.3</td>\n",
       "      <td>77.55</td>\n",
       "      <td>78.3</td>\n",
       "      <td>0.0</td>\n",
       "    </tr>\n",
       "    <tr>\n",
       "      <td>525240</td>\n",
       "      <td>HGc1</td>\n",
       "      <td>HGF8</td>\n",
       "      <td>Market Price</td>\n",
       "      <td>1997-12-31T18:00:00.000000000Z</td>\n",
       "      <td>-5</td>\n",
       "      <td>Intraday 1Min</td>\n",
       "      <td>76.9</td>\n",
       "      <td>76.90</td>\n",
       "      <td>76.9</td>\n",
       "      <td>76.90</td>\n",
       "      <td>...</td>\n",
       "      <td>77.1</td>\n",
       "      <td>77.1</td>\n",
       "      <td>77.05</td>\n",
       "      <td>77.05</td>\n",
       "      <td>0.0</td>\n",
       "      <td>77.7</td>\n",
       "      <td>78.3</td>\n",
       "      <td>77.55</td>\n",
       "      <td>78.3</td>\n",
       "      <td>0.0</td>\n",
       "    </tr>\n",
       "  </tbody>\n",
       "</table>\n",
       "<p>9378 rows × 22 columns</p>\n",
       "</div>"
      ],
      "text/plain": [
       "        #RIC Alias Underlying RIC        Domain  \\\n",
       "2243    HGc1                 HGF7  Market Price   \n",
       "2244    HGc1                 HGF7  Market Price   \n",
       "2252    HGc1                 HGF7  Market Price   \n",
       "2253    HGc1                 HGF7  Market Price   \n",
       "2254    HGc1                 HGF7  Market Price   \n",
       "...      ...                  ...           ...   \n",
       "525227  HGc1                 HGF8  Market Price   \n",
       "525228  HGc1                 HGF8  Market Price   \n",
       "525233  HGc1                 HGF8  Market Price   \n",
       "525239  HGc1                 HGF8  Market Price   \n",
       "525240  HGc1                 HGF8  Market Price   \n",
       "\n",
       "                             Date-Time  GMT Offset           Type   Open  \\\n",
       "2243    1997-01-02T13:23:00.000000000Z          -5  Intraday 1Min  102.5   \n",
       "2244    1997-01-02T13:24:00.000000000Z          -5  Intraday 1Min  102.6   \n",
       "2252    1997-01-02T13:32:00.000000000Z          -5  Intraday 1Min  102.4   \n",
       "2253    1997-01-02T13:33:00.000000000Z          -5  Intraday 1Min  102.4   \n",
       "2254    1997-01-02T13:34:00.000000000Z          -5  Intraday 1Min  102.3   \n",
       "...                                ...         ...            ...    ...   \n",
       "525227  1997-12-31T17:47:00.000000000Z          -5  Intraday 1Min   76.9   \n",
       "525228  1997-12-31T17:48:00.000000000Z          -5  Intraday 1Min   76.9   \n",
       "525233  1997-12-31T17:53:00.000000000Z          -5  Intraday 1Min   76.8   \n",
       "525239  1997-12-31T17:59:00.000000000Z          -5  Intraday 1Min   76.9   \n",
       "525240  1997-12-31T18:00:00.000000000Z          -5  Intraday 1Min   76.9   \n",
       "\n",
       "          High    Low    Last  ...  Open Bid  High Bid  Low Bid  Close Bid  \\\n",
       "2243    102.50  102.5  102.50  ...       NaN       NaN      NaN        NaN   \n",
       "2244    102.60  102.6  102.60  ...       NaN       NaN      NaN        NaN   \n",
       "2252    102.40  102.4  102.40  ...       NaN       NaN      NaN        NaN   \n",
       "2253    102.40  102.4  102.40  ...       NaN       NaN      NaN        NaN   \n",
       "2254    102.30  102.3  102.30  ...       NaN       NaN      NaN        NaN   \n",
       "...        ...    ...     ...  ...       ...       ...      ...        ...   \n",
       "525227   77.00   76.9   77.00  ...      77.1      77.1    77.05      77.05   \n",
       "525228   76.90   76.9   76.90  ...      77.1      77.1    77.05      77.05   \n",
       "525233   76.80   76.8   76.80  ...      77.1      77.1    77.05      77.05   \n",
       "525239   76.92   76.8   76.92  ...      77.1      77.1    77.05      77.05   \n",
       "525240   76.90   76.9   76.90  ...      77.1      77.1    77.05      77.05   \n",
       "\n",
       "        No. Bids  Open Ask  High Ask  Low Ask  Close Ask  No. Asks  \n",
       "2243         NaN       NaN       NaN      NaN        NaN       NaN  \n",
       "2244         NaN       NaN       NaN      NaN        NaN       NaN  \n",
       "2252         NaN       NaN       NaN      NaN        NaN       NaN  \n",
       "2253         NaN       NaN       NaN      NaN        NaN       NaN  \n",
       "2254         NaN       NaN       NaN      NaN        NaN       NaN  \n",
       "...          ...       ...       ...      ...        ...       ...  \n",
       "525227       0.0      77.7      78.3    77.55       78.3       0.0  \n",
       "525228       0.0      77.7      78.3    77.55       78.3       0.0  \n",
       "525233       0.0      77.7      78.3    77.55       78.3       0.0  \n",
       "525239       0.0      77.7      78.3    77.55       78.3       0.0  \n",
       "525240       0.0      77.7      78.3    77.55       78.3       0.0  \n",
       "\n",
       "[9378 rows x 22 columns]"
      ]
     },
     "execution_count": 47,
     "metadata": {},
     "output_type": "execute_result"
    }
   ],
   "source": [
    "df"
   ]
  },
  {
   "cell_type": "code",
   "execution_count": 34,
   "metadata": {},
   "outputs": [
    {
     "data": {
      "text/plain": [
       "525600"
      ]
     },
     "execution_count": 34,
     "metadata": {},
     "output_type": "execute_result"
    }
   ],
   "source": [
    "len(df[df.columns[12]])"
   ]
  },
  {
   "cell_type": "code",
   "execution_count": 18,
   "metadata": {},
   "outputs": [
    {
     "data": {
      "text/plain": [
       "525600"
      ]
     },
     "execution_count": 18,
     "metadata": {},
     "output_type": "execute_result"
    }
   ],
   "source": [
    "def trading(df):\n",
    "    df=df.dropna(axis=0, subset=['No. Trades'])\n",
    "    return df"
   ]
  },
  {
   "cell_type": "code",
   "execution_count": 20,
   "metadata": {},
   "outputs": [
    {
     "data": {
      "text/plain": [
       "Index(['#RIC', 'Alias Underlying RIC', 'Domain', 'Date-Time', 'GMT Offset',\n",
       "       'Type', 'Open', 'High', 'Low', 'Last', 'Volume', 'No. Trades',\n",
       "       'Open Bid', 'High Bid', 'Low Bid', 'Close Bid', 'No. Bids', 'Open Ask',\n",
       "       'High Ask', 'Low Ask', 'Close Ask', 'No. Asks', 'Open Yld', 'High Yld',\n",
       "       'Low Yld', 'Close Yld', 'No. Ylds', 'Open Bid Yld', 'High Bid Yld',\n",
       "       'Low Bid Yld', 'Close Bid Yld', 'No. Bid Ylds', 'Open Ask Yld',\n",
       "       'High Ask Yld', 'Low Ask Yld', 'Close Ask Yld', 'No. Ask Ylds',\n",
       "       'Open Zero Yld', 'High Zero Yld', 'Low Zero Yld', 'Close Zero Yld',\n",
       "       'No. Zero Ylds', 'Open Discount Factor', 'High Discount Factor',\n",
       "       'Low Discount Factor', 'Close Discount Factor', 'No. Discount Factors'],\n",
       "      dtype='object')"
      ]
     },
     "execution_count": 20,
     "metadata": {},
     "output_type": "execute_result"
    }
   ],
   "source": [
    "df.columns"
   ]
  },
  {
   "cell_type": "code",
   "execution_count": 25,
   "metadata": {},
   "outputs": [
    {
     "data": {
      "text/plain": [
       "516222"
      ]
     },
     "execution_count": 25,
     "metadata": {},
     "output_type": "execute_result"
    }
   ],
   "source": [
    "df['No. Trades'].isnull().sum()"
   ]
  },
  {
   "cell_type": "code",
   "execution_count": 23,
   "metadata": {},
   "outputs": [
    {
     "data": {
      "text/plain": [
       "9378"
      ]
     },
     "execution_count": 23,
     "metadata": {},
     "output_type": "execute_result"
    }
   ],
   "source": [
    "len(df.dropna(axis=0, subset=['No. Trades']))"
   ]
  },
  {
   "cell_type": "code",
   "execution_count": 26,
   "metadata": {},
   "outputs": [
    {
     "data": {
      "text/plain": [
       "525600"
      ]
     },
     "execution_count": 26,
     "metadata": {},
     "output_type": "execute_result"
    }
   ],
   "source": [
    "len(df['No. Trades'])"
   ]
  },
  {
   "cell_type": "code",
   "execution_count": 62,
   "metadata": {},
   "outputs": [
    {
     "data": {
      "text/html": [
       "<div>\n",
       "<style scoped>\n",
       "    .dataframe tbody tr th:only-of-type {\n",
       "        vertical-align: middle;\n",
       "    }\n",
       "\n",
       "    .dataframe tbody tr th {\n",
       "        vertical-align: top;\n",
       "    }\n",
       "\n",
       "    .dataframe thead th {\n",
       "        text-align: right;\n",
       "    }\n",
       "</style>\n",
       "<table border=\"1\" class=\"dataframe\">\n",
       "  <thead>\n",
       "    <tr style=\"text-align: right;\">\n",
       "      <th></th>\n",
       "      <th>#RIC</th>\n",
       "      <th>Alias Underlying RIC</th>\n",
       "      <th>Domain</th>\n",
       "      <th>GMT Offset</th>\n",
       "      <th>Type</th>\n",
       "      <th>Open</th>\n",
       "      <th>High</th>\n",
       "      <th>Low</th>\n",
       "      <th>Last</th>\n",
       "      <th>Volume</th>\n",
       "      <th>...</th>\n",
       "      <th>Low Bid</th>\n",
       "      <th>Close Bid</th>\n",
       "      <th>No. Bids</th>\n",
       "      <th>Open Ask</th>\n",
       "      <th>High Ask</th>\n",
       "      <th>Low Ask</th>\n",
       "      <th>Close Ask</th>\n",
       "      <th>No. Asks</th>\n",
       "      <th>date</th>\n",
       "      <th>time</th>\n",
       "    </tr>\n",
       "  </thead>\n",
       "  <tbody>\n",
       "    <tr>\n",
       "      <td>0</td>\n",
       "      <td>HGc1</td>\n",
       "      <td>HGF7</td>\n",
       "      <td>Market Price</td>\n",
       "      <td>-5</td>\n",
       "      <td>Intraday 1Min</td>\n",
       "      <td>102.5</td>\n",
       "      <td>102.50</td>\n",
       "      <td>102.5</td>\n",
       "      <td>102.50</td>\n",
       "      <td>44.0</td>\n",
       "      <td>...</td>\n",
       "      <td>NaN</td>\n",
       "      <td>NaN</td>\n",
       "      <td>NaN</td>\n",
       "      <td>NaN</td>\n",
       "      <td>NaN</td>\n",
       "      <td>NaN</td>\n",
       "      <td>NaN</td>\n",
       "      <td>NaN</td>\n",
       "      <td>1997-01-02</td>\n",
       "      <td>13:23:00</td>\n",
       "    </tr>\n",
       "    <tr>\n",
       "      <td>1</td>\n",
       "      <td>HGc1</td>\n",
       "      <td>HGF7</td>\n",
       "      <td>Market Price</td>\n",
       "      <td>-5</td>\n",
       "      <td>Intraday 1Min</td>\n",
       "      <td>102.6</td>\n",
       "      <td>102.60</td>\n",
       "      <td>102.6</td>\n",
       "      <td>102.60</td>\n",
       "      <td>52.0</td>\n",
       "      <td>...</td>\n",
       "      <td>NaN</td>\n",
       "      <td>NaN</td>\n",
       "      <td>NaN</td>\n",
       "      <td>NaN</td>\n",
       "      <td>NaN</td>\n",
       "      <td>NaN</td>\n",
       "      <td>NaN</td>\n",
       "      <td>NaN</td>\n",
       "      <td>1997-01-02</td>\n",
       "      <td>13:24:00</td>\n",
       "    </tr>\n",
       "    <tr>\n",
       "      <td>2</td>\n",
       "      <td>HGc1</td>\n",
       "      <td>HGF7</td>\n",
       "      <td>Market Price</td>\n",
       "      <td>-5</td>\n",
       "      <td>Intraday 1Min</td>\n",
       "      <td>102.4</td>\n",
       "      <td>102.40</td>\n",
       "      <td>102.4</td>\n",
       "      <td>102.40</td>\n",
       "      <td>NaN</td>\n",
       "      <td>...</td>\n",
       "      <td>NaN</td>\n",
       "      <td>NaN</td>\n",
       "      <td>NaN</td>\n",
       "      <td>NaN</td>\n",
       "      <td>NaN</td>\n",
       "      <td>NaN</td>\n",
       "      <td>NaN</td>\n",
       "      <td>NaN</td>\n",
       "      <td>1997-01-02</td>\n",
       "      <td>13:32:00</td>\n",
       "    </tr>\n",
       "    <tr>\n",
       "      <td>3</td>\n",
       "      <td>HGc1</td>\n",
       "      <td>HGF7</td>\n",
       "      <td>Market Price</td>\n",
       "      <td>-5</td>\n",
       "      <td>Intraday 1Min</td>\n",
       "      <td>102.4</td>\n",
       "      <td>102.40</td>\n",
       "      <td>102.4</td>\n",
       "      <td>102.40</td>\n",
       "      <td>0.0</td>\n",
       "      <td>...</td>\n",
       "      <td>NaN</td>\n",
       "      <td>NaN</td>\n",
       "      <td>NaN</td>\n",
       "      <td>NaN</td>\n",
       "      <td>NaN</td>\n",
       "      <td>NaN</td>\n",
       "      <td>NaN</td>\n",
       "      <td>NaN</td>\n",
       "      <td>1997-01-02</td>\n",
       "      <td>13:33:00</td>\n",
       "    </tr>\n",
       "    <tr>\n",
       "      <td>4</td>\n",
       "      <td>HGc1</td>\n",
       "      <td>HGF7</td>\n",
       "      <td>Market Price</td>\n",
       "      <td>-5</td>\n",
       "      <td>Intraday 1Min</td>\n",
       "      <td>102.3</td>\n",
       "      <td>102.30</td>\n",
       "      <td>102.3</td>\n",
       "      <td>102.30</td>\n",
       "      <td>0.0</td>\n",
       "      <td>...</td>\n",
       "      <td>NaN</td>\n",
       "      <td>NaN</td>\n",
       "      <td>NaN</td>\n",
       "      <td>NaN</td>\n",
       "      <td>NaN</td>\n",
       "      <td>NaN</td>\n",
       "      <td>NaN</td>\n",
       "      <td>NaN</td>\n",
       "      <td>1997-01-02</td>\n",
       "      <td>13:34:00</td>\n",
       "    </tr>\n",
       "    <tr>\n",
       "      <td>...</td>\n",
       "      <td>...</td>\n",
       "      <td>...</td>\n",
       "      <td>...</td>\n",
       "      <td>...</td>\n",
       "      <td>...</td>\n",
       "      <td>...</td>\n",
       "      <td>...</td>\n",
       "      <td>...</td>\n",
       "      <td>...</td>\n",
       "      <td>...</td>\n",
       "      <td>...</td>\n",
       "      <td>...</td>\n",
       "      <td>...</td>\n",
       "      <td>...</td>\n",
       "      <td>...</td>\n",
       "      <td>...</td>\n",
       "      <td>...</td>\n",
       "      <td>...</td>\n",
       "      <td>...</td>\n",
       "      <td>...</td>\n",
       "      <td>...</td>\n",
       "    </tr>\n",
       "    <tr>\n",
       "      <td>9373</td>\n",
       "      <td>HGc1</td>\n",
       "      <td>HGF8</td>\n",
       "      <td>Market Price</td>\n",
       "      <td>-5</td>\n",
       "      <td>Intraday 1Min</td>\n",
       "      <td>76.9</td>\n",
       "      <td>77.00</td>\n",
       "      <td>76.9</td>\n",
       "      <td>77.00</td>\n",
       "      <td>0.0</td>\n",
       "      <td>...</td>\n",
       "      <td>77.05</td>\n",
       "      <td>77.05</td>\n",
       "      <td>0.0</td>\n",
       "      <td>77.7</td>\n",
       "      <td>78.3</td>\n",
       "      <td>77.55</td>\n",
       "      <td>78.3</td>\n",
       "      <td>0.0</td>\n",
       "      <td>1997-12-31</td>\n",
       "      <td>17:47:00</td>\n",
       "    </tr>\n",
       "    <tr>\n",
       "      <td>9374</td>\n",
       "      <td>HGc1</td>\n",
       "      <td>HGF8</td>\n",
       "      <td>Market Price</td>\n",
       "      <td>-5</td>\n",
       "      <td>Intraday 1Min</td>\n",
       "      <td>76.9</td>\n",
       "      <td>76.90</td>\n",
       "      <td>76.9</td>\n",
       "      <td>76.90</td>\n",
       "      <td>0.0</td>\n",
       "      <td>...</td>\n",
       "      <td>77.05</td>\n",
       "      <td>77.05</td>\n",
       "      <td>0.0</td>\n",
       "      <td>77.7</td>\n",
       "      <td>78.3</td>\n",
       "      <td>77.55</td>\n",
       "      <td>78.3</td>\n",
       "      <td>0.0</td>\n",
       "      <td>1997-12-31</td>\n",
       "      <td>17:48:00</td>\n",
       "    </tr>\n",
       "    <tr>\n",
       "      <td>9375</td>\n",
       "      <td>HGc1</td>\n",
       "      <td>HGF8</td>\n",
       "      <td>Market Price</td>\n",
       "      <td>-5</td>\n",
       "      <td>Intraday 1Min</td>\n",
       "      <td>76.8</td>\n",
       "      <td>76.80</td>\n",
       "      <td>76.8</td>\n",
       "      <td>76.80</td>\n",
       "      <td>0.0</td>\n",
       "      <td>...</td>\n",
       "      <td>77.05</td>\n",
       "      <td>77.05</td>\n",
       "      <td>0.0</td>\n",
       "      <td>77.7</td>\n",
       "      <td>78.3</td>\n",
       "      <td>77.55</td>\n",
       "      <td>78.3</td>\n",
       "      <td>0.0</td>\n",
       "      <td>1997-12-31</td>\n",
       "      <td>17:53:00</td>\n",
       "    </tr>\n",
       "    <tr>\n",
       "      <td>9376</td>\n",
       "      <td>HGc1</td>\n",
       "      <td>HGF8</td>\n",
       "      <td>Market Price</td>\n",
       "      <td>-5</td>\n",
       "      <td>Intraday 1Min</td>\n",
       "      <td>76.9</td>\n",
       "      <td>76.92</td>\n",
       "      <td>76.8</td>\n",
       "      <td>76.92</td>\n",
       "      <td>17.0</td>\n",
       "      <td>...</td>\n",
       "      <td>77.05</td>\n",
       "      <td>77.05</td>\n",
       "      <td>0.0</td>\n",
       "      <td>77.7</td>\n",
       "      <td>78.3</td>\n",
       "      <td>77.55</td>\n",
       "      <td>78.3</td>\n",
       "      <td>0.0</td>\n",
       "      <td>1997-12-31</td>\n",
       "      <td>17:59:00</td>\n",
       "    </tr>\n",
       "    <tr>\n",
       "      <td>9377</td>\n",
       "      <td>HGc1</td>\n",
       "      <td>HGF8</td>\n",
       "      <td>Market Price</td>\n",
       "      <td>-5</td>\n",
       "      <td>Intraday 1Min</td>\n",
       "      <td>76.9</td>\n",
       "      <td>76.90</td>\n",
       "      <td>76.9</td>\n",
       "      <td>76.90</td>\n",
       "      <td>3.0</td>\n",
       "      <td>...</td>\n",
       "      <td>77.05</td>\n",
       "      <td>77.05</td>\n",
       "      <td>0.0</td>\n",
       "      <td>77.7</td>\n",
       "      <td>78.3</td>\n",
       "      <td>77.55</td>\n",
       "      <td>78.3</td>\n",
       "      <td>0.0</td>\n",
       "      <td>1997-12-31</td>\n",
       "      <td>18:00:00</td>\n",
       "    </tr>\n",
       "  </tbody>\n",
       "</table>\n",
       "<p>9378 rows × 23 columns</p>\n",
       "</div>"
      ],
      "text/plain": [
       "      #RIC Alias Underlying RIC        Domain  GMT Offset           Type  \\\n",
       "0     HGc1                 HGF7  Market Price          -5  Intraday 1Min   \n",
       "1     HGc1                 HGF7  Market Price          -5  Intraday 1Min   \n",
       "2     HGc1                 HGF7  Market Price          -5  Intraday 1Min   \n",
       "3     HGc1                 HGF7  Market Price          -5  Intraday 1Min   \n",
       "4     HGc1                 HGF7  Market Price          -5  Intraday 1Min   \n",
       "...    ...                  ...           ...         ...            ...   \n",
       "9373  HGc1                 HGF8  Market Price          -5  Intraday 1Min   \n",
       "9374  HGc1                 HGF8  Market Price          -5  Intraday 1Min   \n",
       "9375  HGc1                 HGF8  Market Price          -5  Intraday 1Min   \n",
       "9376  HGc1                 HGF8  Market Price          -5  Intraday 1Min   \n",
       "9377  HGc1                 HGF8  Market Price          -5  Intraday 1Min   \n",
       "\n",
       "       Open    High    Low    Last  Volume  ...  Low Bid  Close Bid  No. Bids  \\\n",
       "0     102.5  102.50  102.5  102.50    44.0  ...      NaN        NaN       NaN   \n",
       "1     102.6  102.60  102.6  102.60    52.0  ...      NaN        NaN       NaN   \n",
       "2     102.4  102.40  102.4  102.40     NaN  ...      NaN        NaN       NaN   \n",
       "3     102.4  102.40  102.4  102.40     0.0  ...      NaN        NaN       NaN   \n",
       "4     102.3  102.30  102.3  102.30     0.0  ...      NaN        NaN       NaN   \n",
       "...     ...     ...    ...     ...     ...  ...      ...        ...       ...   \n",
       "9373   76.9   77.00   76.9   77.00     0.0  ...    77.05      77.05       0.0   \n",
       "9374   76.9   76.90   76.9   76.90     0.0  ...    77.05      77.05       0.0   \n",
       "9375   76.8   76.80   76.8   76.80     0.0  ...    77.05      77.05       0.0   \n",
       "9376   76.9   76.92   76.8   76.92    17.0  ...    77.05      77.05       0.0   \n",
       "9377   76.9   76.90   76.9   76.90     3.0  ...    77.05      77.05       0.0   \n",
       "\n",
       "      Open Ask  High Ask  Low Ask  Close Ask  No. Asks        date      time  \n",
       "0          NaN       NaN      NaN        NaN       NaN  1997-01-02  13:23:00  \n",
       "1          NaN       NaN      NaN        NaN       NaN  1997-01-02  13:24:00  \n",
       "2          NaN       NaN      NaN        NaN       NaN  1997-01-02  13:32:00  \n",
       "3          NaN       NaN      NaN        NaN       NaN  1997-01-02  13:33:00  \n",
       "4          NaN       NaN      NaN        NaN       NaN  1997-01-02  13:34:00  \n",
       "...        ...       ...      ...        ...       ...         ...       ...  \n",
       "9373      77.7      78.3    77.55       78.3       0.0  1997-12-31  17:47:00  \n",
       "9374      77.7      78.3    77.55       78.3       0.0  1997-12-31  17:48:00  \n",
       "9375      77.7      78.3    77.55       78.3       0.0  1997-12-31  17:53:00  \n",
       "9376      77.7      78.3    77.55       78.3       0.0  1997-12-31  17:59:00  \n",
       "9377      77.7      78.3    77.55       78.3       0.0  1997-12-31  18:00:00  \n",
       "\n",
       "[9378 rows x 23 columns]"
      ]
     },
     "execution_count": 62,
     "metadata": {},
     "output_type": "execute_result"
    }
   ],
   "source": [
    "df=clean(df)\n",
    "df"
   ]
  },
  {
   "cell_type": "code",
   "execution_count": 38,
   "metadata": {},
   "outputs": [
    {
     "data": {
      "text/plain": [
       "Index(['#RIC', 'Alias Underlying RIC', 'Domain', 'Date-Time', 'GMT Offset',\n",
       "       'Type', 'Open', 'High', 'Low', 'Last', 'Volume', 'No. Trades',\n",
       "       'Open Bid', 'High Bid', 'Low Bid', 'Close Bid', 'No. Bids', 'Open Ask',\n",
       "       'High Ask', 'Low Ask', 'Close Ask', 'No. Asks'],\n",
       "      dtype='object')"
      ]
     },
     "execution_count": 38,
     "metadata": {},
     "output_type": "execute_result"
    }
   ],
   "source": [
    "df.columns"
   ]
  },
  {
   "cell_type": "code",
   "execution_count": 40,
   "metadata": {},
   "outputs": [
    {
     "data": {
      "text/plain": [
       "['Open', 'Last', 'High', 'Low']"
      ]
     },
     "execution_count": 40,
     "metadata": {},
     "output_type": "execute_result"
    }
   ],
   "source": [
    "l=['Open','Last','High','Low']\n",
    "l"
   ]
  },
  {
   "cell_type": "code",
   "execution_count": 113,
   "metadata": {},
   "outputs": [],
   "source": [
    "def adjust(df):\n",
    "    df_t=pd.DataFrame()\n",
    "    l=['Open','Last','High','Low']\n",
    "    for i in l:\n",
    "        df2[('Adjusted '+str(i))]=df2[(str(i))]\n",
    "    \n",
    "    gk=df2.groupby('Alias Underlying RIC')\n",
    "    lg=df['Alias Underlying RIC'].unique()\n",
    "    for j in range(len(lg)-1):\n",
    "        if df_t.empty==False:\n",
    "            df_t=df_t.append(gk.get_group(lg[j]))\n",
    "        else:\n",
    "            df_t=gk.get_group(lg[j])\n",
    "        for i in l:    \n",
    "            r=gk.get_group(lg[j+1])[i].iat[0]/gk.get_group(lg[j])[i].iat[-1]\n",
    "            df_t[('Adjusted '+str(i))]=df_t[('Adjusted '+str(i))]*r\n",
    "            \n",
    "    df_t=df_t.append(gk.get_group(lg[len(lg)-1])) \n",
    "    return df_t       "
   ]
  },
  {
   "cell_type": "code",
   "execution_count": 66,
   "metadata": {},
   "outputs": [
    {
     "data": {
      "text/plain": [
       "'HGF8'"
      ]
     },
     "execution_count": 66,
     "metadata": {},
     "output_type": "execute_result"
    }
   ],
   "source": [
    "df['Alias Underlying RIC'].iat[-1]"
   ]
  },
  {
   "cell_type": "code",
   "execution_count": 63,
   "metadata": {},
   "outputs": [],
   "source": [
    "df.to_csv('test.csv')\n"
   ]
  },
  {
   "cell_type": "code",
   "execution_count": 86,
   "metadata": {},
   "outputs": [
    {
     "name": "stderr",
     "output_type": "stream",
     "text": [
      "/home/devansh/anaconda3/lib/python3.7/site-packages/ipykernel_launcher.py:14: SettingWithCopyWarning: \n",
      "A value is trying to be set on a copy of a slice from a DataFrame.\n",
      "Try using .loc[row_indexer,col_indexer] = value instead\n",
      "\n",
      "See the caveats in the documentation: http://pandas.pydata.org/pandas-docs/stable/user_guide/indexing.html#returning-a-view-versus-a-copy\n",
      "  \n"
     ]
    },
    {
     "data": {
      "text/plain": [
       "-27818"
      ]
     },
     "execution_count": 86,
     "metadata": {},
     "output_type": "execute_result"
    }
   ],
   "source": [
    "len(df) -len(adjust(df))"
   ]
  },
  {
   "cell_type": "code",
   "execution_count": 114,
   "metadata": {},
   "outputs": [
    {
     "name": "stderr",
     "output_type": "stream",
     "text": [
      "/home/devansh/anaconda3/lib/python3.7/site-packages/ipykernel_launcher.py:16: SettingWithCopyWarning: \n",
      "A value is trying to be set on a copy of a slice from a DataFrame.\n",
      "Try using .loc[row_indexer,col_indexer] = value instead\n",
      "\n",
      "See the caveats in the documentation: http://pandas.pydata.org/pandas-docs/stable/user_guide/indexing.html#returning-a-view-versus-a-copy\n",
      "  app.launch_new_instance()\n"
     ]
    }
   ],
   "source": [
    "adjust(df).to_csv('Adjusted_see_once.csv')"
   ]
  },
  {
   "cell_type": "code",
   "execution_count": 75,
   "metadata": {},
   "outputs": [],
   "source": [
    " gk=df.groupby('Alias Underlying RIC')"
   ]
  },
  {
   "cell_type": "code",
   "execution_count": 76,
   "metadata": {},
   "outputs": [
    {
     "data": {
      "text/plain": [
       "497    103.80\n",
       "498    103.80\n",
       "499    103.00\n",
       "500    103.10\n",
       "501    103.00\n",
       "        ...  \n",
       "872    114.25\n",
       "873    114.10\n",
       "874    114.00\n",
       "875    114.05\n",
       "876    115.10\n",
       "Name: Open, Length: 380, dtype: float64"
      ]
     },
     "execution_count": 76,
     "metadata": {},
     "output_type": "execute_result"
    }
   ],
   "source": [
    "gk.get_group(df['Alias Underlying RIC'].unique()[1]).Open"
   ]
  },
  {
   "cell_type": "code",
   "execution_count": 95,
   "metadata": {},
   "outputs": [
    {
     "data": {
      "text/plain": [
       "9378"
      ]
     },
     "execution_count": 95,
     "metadata": {},
     "output_type": "execute_result"
    }
   ],
   "source": [
    "len(df)"
   ]
  },
  {
   "cell_type": "code",
   "execution_count": 112,
   "metadata": {},
   "outputs": [
    {
     "name": "stderr",
     "output_type": "stream",
     "text": [
      "/home/devansh/anaconda3/lib/python3.7/site-packages/ipykernel_launcher.py:16: SettingWithCopyWarning: \n",
      "A value is trying to be set on a copy of a slice from a DataFrame.\n",
      "Try using .loc[row_indexer,col_indexer] = value instead\n",
      "\n",
      "See the caveats in the documentation: http://pandas.pydata.org/pandas-docs/stable/user_guide/indexing.html#returning-a-view-versus-a-copy\n",
      "  app.launch_new_instance()\n"
     ]
    },
    {
     "data": {
      "text/plain": [
       "9378"
      ]
     },
     "execution_count": 112,
     "metadata": {},
     "output_type": "execute_result"
    }
   ],
   "source": [
    "len(adjust(df))"
   ]
  },
  {
   "cell_type": "code",
   "execution_count": 103,
   "metadata": {},
   "outputs": [
    {
     "name": "stderr",
     "output_type": "stream",
     "text": [
      "/home/devansh/anaconda3/lib/python3.7/site-packages/ipykernel_launcher.py:14: SettingWithCopyWarning: \n",
      "A value is trying to be set on a copy of a slice from a DataFrame.\n",
      "Try using .loc[row_indexer,col_indexer] = value instead\n",
      "\n",
      "See the caveats in the documentation: http://pandas.pydata.org/pandas-docs/stable/user_guide/indexing.html#returning-a-view-versus-a-copy\n",
      "  \n"
     ]
    }
   ],
   "source": [
    "df_r=pd.DataFrame()\n",
    "l=['Open','Last','High','Low']\n",
    "df2=df\n",
    "df2['Adjusted Open']=df2['Open']\n",
    "gk=df2.groupby('Alias Underlying RIC')\n",
    "lg=df['Alias Underlying RIC'].unique()\n",
    "i=l[0]     #nd=pd.DataFrame()\n",
    "for j in range(len(lg)-1):\n",
    "    if df_r.empty==False:\n",
    "        df_r=df_r.append(gk.get_group(lg[j]))\n",
    "    else:\n",
    "        df_r=gk.get_group(lg[j])\n",
    "    r=gk.get_group(lg[j+1])[i].iat[0]/gk.get_group(lg[j])[i].iat[-1]\n",
    "    df_r[('Adjusted '+str(i))]=df_r[('Adjusted '+str(i))]*r\n",
    "            \n",
    "df_r=df_r.append(gk.get_group(lg[len(lg)-1])) \n",
    "#    return df_t       "
   ]
  },
  {
   "cell_type": "code",
   "execution_count": 104,
   "metadata": {},
   "outputs": [],
   "source": [
    "df_r.to_csv('Once.csv')"
   ]
  },
  {
   "cell_type": "code",
   "execution_count": null,
   "metadata": {},
   "outputs": [],
   "source": []
  }
 ],
 "metadata": {
  "kernelspec": {
   "display_name": "Python 3",
   "language": "python",
   "name": "python3"
  },
  "language_info": {
   "codemirror_mode": {
    "name": "ipython",
    "version": 3
   },
   "file_extension": ".py",
   "mimetype": "text/x-python",
   "name": "python",
   "nbconvert_exporter": "python",
   "pygments_lexer": "ipython3",
   "version": "3.7.4"
  }
 },
 "nbformat": 4,
 "nbformat_minor": 2
}
